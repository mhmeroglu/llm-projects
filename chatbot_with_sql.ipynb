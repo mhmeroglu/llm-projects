{
  "nbformat": 4,
  "nbformat_minor": 0,
  "metadata": {
    "colab": {
      "provenance": [],
      "gpuType": "T4"
    },
    "kernelspec": {
      "name": "python3",
      "display_name": "Python 3"
    },
    "language_info": {
      "name": "python"
    },
    "accelerator": "GPU"
  },
  "cells": [
    {
      "cell_type": "markdown",
      "source": [
        "# Install Dependencies"
      ],
      "metadata": {
        "id": "mdYGsQdhU_88"
      }
    },
    {
      "cell_type": "code",
      "source": [
        "pip install gradio"
      ],
      "metadata": {
        "colab": {
          "base_uri": "https://localhost:8080/"
        },
        "id": "DpxRRj3WP4H0",
        "outputId": "f31d3945-9969-464b-9865-c131479201ee",
        "collapsed": true
      },
      "execution_count": null,
      "outputs": [
        {
          "output_type": "stream",
          "name": "stdout",
          "text": [
            "Collecting gradio\n",
            "  Downloading gradio-5.21.0-py3-none-any.whl.metadata (16 kB)\n",
            "Collecting aiofiles<24.0,>=22.0 (from gradio)\n",
            "  Downloading aiofiles-23.2.1-py3-none-any.whl.metadata (9.7 kB)\n",
            "Requirement already satisfied: anyio<5.0,>=3.0 in /usr/local/lib/python3.11/dist-packages (from gradio) (3.7.1)\n",
            "Collecting fastapi<1.0,>=0.115.2 (from gradio)\n",
            "  Downloading fastapi-0.115.11-py3-none-any.whl.metadata (27 kB)\n",
            "Collecting ffmpy (from gradio)\n",
            "  Downloading ffmpy-0.5.0-py3-none-any.whl.metadata (3.0 kB)\n",
            "Collecting gradio-client==1.7.2 (from gradio)\n",
            "  Downloading gradio_client-1.7.2-py3-none-any.whl.metadata (7.1 kB)\n",
            "Collecting groovy~=0.1 (from gradio)\n",
            "  Downloading groovy-0.1.2-py3-none-any.whl.metadata (6.1 kB)\n",
            "Requirement already satisfied: httpx>=0.24.1 in /usr/local/lib/python3.11/dist-packages (from gradio) (0.28.1)\n",
            "Requirement already satisfied: huggingface-hub>=0.28.1 in /usr/local/lib/python3.11/dist-packages (from gradio) (0.28.1)\n",
            "Requirement already satisfied: jinja2<4.0 in /usr/local/lib/python3.11/dist-packages (from gradio) (3.1.6)\n",
            "Collecting markupsafe~=2.0 (from gradio)\n",
            "  Downloading MarkupSafe-2.1.5-cp311-cp311-manylinux_2_17_x86_64.manylinux2014_x86_64.whl.metadata (3.0 kB)\n",
            "Requirement already satisfied: numpy<3.0,>=1.0 in /usr/local/lib/python3.11/dist-packages (from gradio) (2.0.2)\n",
            "Requirement already satisfied: orjson~=3.0 in /usr/local/lib/python3.11/dist-packages (from gradio) (3.10.15)\n",
            "Requirement already satisfied: packaging in /usr/local/lib/python3.11/dist-packages (from gradio) (24.2)\n",
            "Requirement already satisfied: pandas<3.0,>=1.0 in /usr/local/lib/python3.11/dist-packages (from gradio) (2.2.2)\n",
            "Requirement already satisfied: pillow<12.0,>=8.0 in /usr/local/lib/python3.11/dist-packages (from gradio) (11.1.0)\n",
            "Requirement already satisfied: pydantic>=2.0 in /usr/local/lib/python3.11/dist-packages (from gradio) (2.10.6)\n",
            "Collecting pydub (from gradio)\n",
            "  Downloading pydub-0.25.1-py2.py3-none-any.whl.metadata (1.4 kB)\n",
            "Collecting python-multipart>=0.0.18 (from gradio)\n",
            "  Downloading python_multipart-0.0.20-py3-none-any.whl.metadata (1.8 kB)\n",
            "Requirement already satisfied: pyyaml<7.0,>=5.0 in /usr/local/lib/python3.11/dist-packages (from gradio) (6.0.2)\n",
            "Collecting ruff>=0.9.3 (from gradio)\n",
            "  Downloading ruff-0.11.0-py3-none-manylinux_2_17_x86_64.manylinux2014_x86_64.whl.metadata (25 kB)\n",
            "Collecting safehttpx<0.2.0,>=0.1.6 (from gradio)\n",
            "  Downloading safehttpx-0.1.6-py3-none-any.whl.metadata (4.2 kB)\n",
            "Collecting semantic-version~=2.0 (from gradio)\n",
            "  Downloading semantic_version-2.10.0-py2.py3-none-any.whl.metadata (9.7 kB)\n",
            "Collecting starlette<1.0,>=0.40.0 (from gradio)\n",
            "  Downloading starlette-0.46.1-py3-none-any.whl.metadata (6.2 kB)\n",
            "Collecting tomlkit<0.14.0,>=0.12.0 (from gradio)\n",
            "  Downloading tomlkit-0.13.2-py3-none-any.whl.metadata (2.7 kB)\n",
            "Requirement already satisfied: typer<1.0,>=0.12 in /usr/local/lib/python3.11/dist-packages (from gradio) (0.15.2)\n",
            "Requirement already satisfied: typing-extensions~=4.0 in /usr/local/lib/python3.11/dist-packages (from gradio) (4.12.2)\n",
            "Collecting uvicorn>=0.14.0 (from gradio)\n",
            "  Downloading uvicorn-0.34.0-py3-none-any.whl.metadata (6.5 kB)\n",
            "Requirement already satisfied: fsspec in /usr/local/lib/python3.11/dist-packages (from gradio-client==1.7.2->gradio) (2024.10.0)\n",
            "Requirement already satisfied: websockets<16.0,>=10.0 in /usr/local/lib/python3.11/dist-packages (from gradio-client==1.7.2->gradio) (14.2)\n",
            "Requirement already satisfied: idna>=2.8 in /usr/local/lib/python3.11/dist-packages (from anyio<5.0,>=3.0->gradio) (3.10)\n",
            "Requirement already satisfied: sniffio>=1.1 in /usr/local/lib/python3.11/dist-packages (from anyio<5.0,>=3.0->gradio) (1.3.1)\n",
            "Requirement already satisfied: certifi in /usr/local/lib/python3.11/dist-packages (from httpx>=0.24.1->gradio) (2025.1.31)\n",
            "Requirement already satisfied: httpcore==1.* in /usr/local/lib/python3.11/dist-packages (from httpx>=0.24.1->gradio) (1.0.7)\n",
            "Requirement already satisfied: h11<0.15,>=0.13 in /usr/local/lib/python3.11/dist-packages (from httpcore==1.*->httpx>=0.24.1->gradio) (0.14.0)\n",
            "Requirement already satisfied: filelock in /usr/local/lib/python3.11/dist-packages (from huggingface-hub>=0.28.1->gradio) (3.17.0)\n",
            "Requirement already satisfied: requests in /usr/local/lib/python3.11/dist-packages (from huggingface-hub>=0.28.1->gradio) (2.32.3)\n",
            "Requirement already satisfied: tqdm>=4.42.1 in /usr/local/lib/python3.11/dist-packages (from huggingface-hub>=0.28.1->gradio) (4.67.1)\n",
            "Requirement already satisfied: python-dateutil>=2.8.2 in /usr/local/lib/python3.11/dist-packages (from pandas<3.0,>=1.0->gradio) (2.8.2)\n",
            "Requirement already satisfied: pytz>=2020.1 in /usr/local/lib/python3.11/dist-packages (from pandas<3.0,>=1.0->gradio) (2025.1)\n",
            "Requirement already satisfied: tzdata>=2022.7 in /usr/local/lib/python3.11/dist-packages (from pandas<3.0,>=1.0->gradio) (2025.1)\n",
            "Requirement already satisfied: annotated-types>=0.6.0 in /usr/local/lib/python3.11/dist-packages (from pydantic>=2.0->gradio) (0.7.0)\n",
            "Requirement already satisfied: pydantic-core==2.27.2 in /usr/local/lib/python3.11/dist-packages (from pydantic>=2.0->gradio) (2.27.2)\n",
            "Requirement already satisfied: click>=8.0.0 in /usr/local/lib/python3.11/dist-packages (from typer<1.0,>=0.12->gradio) (8.1.8)\n",
            "Requirement already satisfied: shellingham>=1.3.0 in /usr/local/lib/python3.11/dist-packages (from typer<1.0,>=0.12->gradio) (1.5.4)\n",
            "Requirement already satisfied: rich>=10.11.0 in /usr/local/lib/python3.11/dist-packages (from typer<1.0,>=0.12->gradio) (13.9.4)\n",
            "Requirement already satisfied: six>=1.5 in /usr/local/lib/python3.11/dist-packages (from python-dateutil>=2.8.2->pandas<3.0,>=1.0->gradio) (1.17.0)\n",
            "Requirement already satisfied: markdown-it-py>=2.2.0 in /usr/local/lib/python3.11/dist-packages (from rich>=10.11.0->typer<1.0,>=0.12->gradio) (3.0.0)\n",
            "Requirement already satisfied: pygments<3.0.0,>=2.13.0 in /usr/local/lib/python3.11/dist-packages (from rich>=10.11.0->typer<1.0,>=0.12->gradio) (2.18.0)\n",
            "Requirement already satisfied: charset-normalizer<4,>=2 in /usr/local/lib/python3.11/dist-packages (from requests->huggingface-hub>=0.28.1->gradio) (3.4.1)\n",
            "Requirement already satisfied: urllib3<3,>=1.21.1 in /usr/local/lib/python3.11/dist-packages (from requests->huggingface-hub>=0.28.1->gradio) (2.3.0)\n",
            "Requirement already satisfied: mdurl~=0.1 in /usr/local/lib/python3.11/dist-packages (from markdown-it-py>=2.2.0->rich>=10.11.0->typer<1.0,>=0.12->gradio) (0.1.2)\n",
            "Downloading gradio-5.21.0-py3-none-any.whl (46.2 MB)\n",
            "\u001b[2K   \u001b[90m━━━━━━━━━━━━━━━━━━━━━━━━━━━━━━━━━━━━━━━━\u001b[0m \u001b[32m46.2/46.2 MB\u001b[0m \u001b[31m19.2 MB/s\u001b[0m eta \u001b[36m0:00:00\u001b[0m\n",
            "\u001b[?25hDownloading gradio_client-1.7.2-py3-none-any.whl (322 kB)\n",
            "\u001b[2K   \u001b[90m━━━━━━━━━━━━━━━━━━━━━━━━━━━━━━━━━━━━━━━━\u001b[0m \u001b[32m322.1/322.1 kB\u001b[0m \u001b[31m17.4 MB/s\u001b[0m eta \u001b[36m0:00:00\u001b[0m\n",
            "\u001b[?25hDownloading aiofiles-23.2.1-py3-none-any.whl (15 kB)\n",
            "Downloading fastapi-0.115.11-py3-none-any.whl (94 kB)\n",
            "\u001b[2K   \u001b[90m━━━━━━━━━━━━━━━━━━━━━━━━━━━━━━━━━━━━━━━━\u001b[0m \u001b[32m94.9/94.9 kB\u001b[0m \u001b[31m7.7 MB/s\u001b[0m eta \u001b[36m0:00:00\u001b[0m\n",
            "\u001b[?25hDownloading groovy-0.1.2-py3-none-any.whl (14 kB)\n",
            "Downloading MarkupSafe-2.1.5-cp311-cp311-manylinux_2_17_x86_64.manylinux2014_x86_64.whl (28 kB)\n",
            "Downloading python_multipart-0.0.20-py3-none-any.whl (24 kB)\n",
            "Downloading ruff-0.11.0-py3-none-manylinux_2_17_x86_64.manylinux2014_x86_64.whl (11.3 MB)\n",
            "\u001b[2K   \u001b[90m━━━━━━━━━━━━━━━━━━━━━━━━━━━━━━━━━━━━━━━━\u001b[0m \u001b[32m11.3/11.3 MB\u001b[0m \u001b[31m87.0 MB/s\u001b[0m eta \u001b[36m0:00:00\u001b[0m\n",
            "\u001b[?25hDownloading safehttpx-0.1.6-py3-none-any.whl (8.7 kB)\n",
            "Downloading semantic_version-2.10.0-py2.py3-none-any.whl (15 kB)\n",
            "Downloading starlette-0.46.1-py3-none-any.whl (71 kB)\n",
            "\u001b[2K   \u001b[90m━━━━━━━━━━━━━━━━━━━━━━━━━━━━━━━━━━━━━━━━\u001b[0m \u001b[32m72.0/72.0 kB\u001b[0m \u001b[31m6.7 MB/s\u001b[0m eta \u001b[36m0:00:00\u001b[0m\n",
            "\u001b[?25hDownloading tomlkit-0.13.2-py3-none-any.whl (37 kB)\n",
            "Downloading uvicorn-0.34.0-py3-none-any.whl (62 kB)\n",
            "\u001b[2K   \u001b[90m━━━━━━━━━━━━━━━━━━━━━━━━━━━━━━━━━━━━━━━━\u001b[0m \u001b[32m62.3/62.3 kB\u001b[0m \u001b[31m4.2 MB/s\u001b[0m eta \u001b[36m0:00:00\u001b[0m\n",
            "\u001b[?25hDownloading ffmpy-0.5.0-py3-none-any.whl (6.0 kB)\n",
            "Downloading pydub-0.25.1-py2.py3-none-any.whl (32 kB)\n",
            "Installing collected packages: pydub, uvicorn, tomlkit, semantic-version, ruff, python-multipart, markupsafe, groovy, ffmpy, aiofiles, starlette, safehttpx, gradio-client, fastapi, gradio\n",
            "  Attempting uninstall: markupsafe\n",
            "    Found existing installation: MarkupSafe 3.0.2\n",
            "    Uninstalling MarkupSafe-3.0.2:\n",
            "      Successfully uninstalled MarkupSafe-3.0.2\n",
            "\u001b[31mERROR: pip's dependency resolver does not currently take into account all the packages that are installed. This behaviour is the source of the following dependency conflicts.\n",
            "torch 2.6.0+cu124 requires nvidia-cublas-cu12==12.4.5.8; platform_system == \"Linux\" and platform_machine == \"x86_64\", but you have nvidia-cublas-cu12 12.5.3.2 which is incompatible.\n",
            "torch 2.6.0+cu124 requires nvidia-cuda-cupti-cu12==12.4.127; platform_system == \"Linux\" and platform_machine == \"x86_64\", but you have nvidia-cuda-cupti-cu12 12.5.82 which is incompatible.\n",
            "torch 2.6.0+cu124 requires nvidia-cuda-nvrtc-cu12==12.4.127; platform_system == \"Linux\" and platform_machine == \"x86_64\", but you have nvidia-cuda-nvrtc-cu12 12.5.82 which is incompatible.\n",
            "torch 2.6.0+cu124 requires nvidia-cuda-runtime-cu12==12.4.127; platform_system == \"Linux\" and platform_machine == \"x86_64\", but you have nvidia-cuda-runtime-cu12 12.5.82 which is incompatible.\n",
            "torch 2.6.0+cu124 requires nvidia-cudnn-cu12==9.1.0.70; platform_system == \"Linux\" and platform_machine == \"x86_64\", but you have nvidia-cudnn-cu12 9.3.0.75 which is incompatible.\n",
            "torch 2.6.0+cu124 requires nvidia-cufft-cu12==11.2.1.3; platform_system == \"Linux\" and platform_machine == \"x86_64\", but you have nvidia-cufft-cu12 11.2.3.61 which is incompatible.\n",
            "torch 2.6.0+cu124 requires nvidia-curand-cu12==10.3.5.147; platform_system == \"Linux\" and platform_machine == \"x86_64\", but you have nvidia-curand-cu12 10.3.6.82 which is incompatible.\n",
            "torch 2.6.0+cu124 requires nvidia-cusolver-cu12==11.6.1.9; platform_system == \"Linux\" and platform_machine == \"x86_64\", but you have nvidia-cusolver-cu12 11.6.3.83 which is incompatible.\n",
            "torch 2.6.0+cu124 requires nvidia-cusparse-cu12==12.3.1.170; platform_system == \"Linux\" and platform_machine == \"x86_64\", but you have nvidia-cusparse-cu12 12.5.1.3 which is incompatible.\n",
            "torch 2.6.0+cu124 requires nvidia-nvjitlink-cu12==12.4.127; platform_system == \"Linux\" and platform_machine == \"x86_64\", but you have nvidia-nvjitlink-cu12 12.5.82 which is incompatible.\u001b[0m\u001b[31m\n",
            "\u001b[0mSuccessfully installed aiofiles-23.2.1 fastapi-0.115.11 ffmpy-0.5.0 gradio-5.21.0 gradio-client-1.7.2 groovy-0.1.2 markupsafe-2.1.5 pydub-0.25.1 python-multipart-0.0.20 ruff-0.11.0 safehttpx-0.1.6 semantic-version-2.10.0 starlette-0.46.1 tomlkit-0.13.2 uvicorn-0.34.0\n"
          ]
        }
      ]
    },
    {
      "cell_type": "markdown",
      "source": [
        "# Import Libraries"
      ],
      "metadata": {
        "id": "qinOKNmcVMmO"
      }
    },
    {
      "cell_type": "code",
      "source": [
        "import os\n",
        "import sqlite3\n",
        "import json\n",
        "import google.generativeai as genai\n",
        "from google.colab import drive\n",
        "import gradio as gr\n",
        "from typing import List, Dict, Any\n",
        "import traceback"
      ],
      "metadata": {
        "id": "gsu2nDhNVQBp"
      },
      "execution_count": null,
      "outputs": []
    },
    {
      "cell_type": "markdown",
      "source": [
        "# Acces and Connect to the Database"
      ],
      "metadata": {
        "id": "UHgvkVAZVV7w"
      }
    },
    {
      "cell_type": "code",
      "source": [
        "# Mount Google Drive to access the database\n",
        "drive.mount('/content/drive')\n",
        "\n",
        "# Database connection\n",
        "DB_PATH = \"/content/drive/My Drive/work@home4/Northwind.db\"\n",
        "\n",
        "def get_db_connection():\n",
        "    \"\"\"Create and return a connection to the SQLite database.\"\"\"\n",
        "    try:\n",
        "        conn = sqlite3.connect(DB_PATH, timeout=10)\n",
        "        conn.row_factory = sqlite3.Row  # This enables column access by name\n",
        "        return conn\n",
        "    except sqlite3.Error as e:\n",
        "        print(f\"Database connection error: {e}\")\n",
        "        return None"
      ],
      "metadata": {
        "colab": {
          "base_uri": "https://localhost:8080/"
        },
        "id": "3D8CMSCAVm0t",
        "outputId": "ebd5f354-02b6-44e9-fac5-a0b48f10f970"
      },
      "execution_count": null,
      "outputs": [
        {
          "output_type": "stream",
          "name": "stdout",
          "text": [
            "Mounted at /content/drive\n"
          ]
        }
      ]
    },
    {
      "cell_type": "markdown",
      "source": [
        "# Set up and Configure Gemini Api"
      ],
      "metadata": {
        "id": "wmlcK3zzVzG9"
      }
    },
    {
      "cell_type": "code",
      "source": [
        "# Set up the Google API key\n",
        "from google.colab import userdata\n",
        "GOOGLE_API_KEY = userdata.get('GOOGLE_API_KEY')\n",
        "\n",
        "# Configure the Gemini API\n",
        "genai.configure(api_key=GOOGLE_API_KEY)"
      ],
      "metadata": {
        "id": "CV1MWFH_V9qU"
      },
      "execution_count": null,
      "outputs": []
    },
    {
      "cell_type": "markdown",
      "source": [
        "# Schemas"
      ],
      "metadata": {
        "id": "DJgDfZXrWCYW"
      }
    },
    {
      "cell_type": "code",
      "source": [
        "def get_table_schema():\n",
        "    \"\"\"Extract the schema from the database to inform the model.\"\"\"\n",
        "    try:\n",
        "        conn = get_db_connection()\n",
        "        if not conn:\n",
        "            return \"Could not connect to database to extract schema.\"\n",
        "\n",
        "        cursor = conn.cursor()\n",
        "\n",
        "        # Get a list of all tables\n",
        "        cursor.execute(\"SELECT name FROM sqlite_master WHERE type='table';\")\n",
        "        tables = cursor.fetchall()\n",
        "\n",
        "        schema = {}\n",
        "        for table in tables:\n",
        "            table_name = table[0]\n",
        "            cursor.execute(f\"PRAGMA table_info({table_name});\")\n",
        "            columns = cursor.fetchall()\n",
        "\n",
        "            schema[table_name] = {\n",
        "                \"columns\": [{\"name\": col[1], \"type\": col[2]} for col in columns],\n",
        "                \"primary_key\": next((col[1] for col in columns if col[5] == 1), None)\n",
        "            }\n",
        "\n",
        "        conn.close()\n",
        "        return json.dumps(schema, indent=2)\n",
        "    except Exception as e:\n",
        "        print(f\"Error getting schema: {e}\")\n",
        "        traceback.print_exc()\n",
        "        return json.dumps({\"error\": str(e)})\n",
        "\n",
        "# Get the schema once at the beginning\n",
        "print(\"Fetching database schema...\")\n",
        "DB_SCHEMA = get_table_schema()\n",
        "print(\"Schema fetched successfully!\")\n",
        "\n",
        "\n",
        "# Define the JSON schema for structured output\n",
        "json_schema = {\n",
        "    \"type\": \"object\",\n",
        "    \"properties\": {\n",
        "        \"sql_query\": {\n",
        "            \"type\": \"string\",\n",
        "            \"description\": \"The SQL query to execute on the database\"\n",
        "        },\n",
        "        \"explanation\": {\n",
        "            \"type\": \"string\",\n",
        "            \"description\": \"A brief explanation of what the SQL query does\"\n",
        "        }\n",
        "    },\n",
        "    \"required\": [\"sql_query\", \"explanation\"]\n",
        "}"
      ],
      "metadata": {
        "colab": {
          "base_uri": "https://localhost:8080/"
        },
        "id": "BVLUnN-ZWHsa",
        "outputId": "b3edaeee-edcf-4b4b-85fa-2aec3f687506"
      },
      "execution_count": null,
      "outputs": [
        {
          "output_type": "stream",
          "name": "stdout",
          "text": [
            "Fetching database schema...\n",
            "Schema fetched successfully!\n"
          ]
        }
      ]
    },
    {
      "cell_type": "markdown",
      "source": [
        "# Execute Sql Query Method"
      ],
      "metadata": {
        "id": "6xBBVaP7WL0S"
      }
    },
    {
      "cell_type": "code",
      "source": [
        "def execute_sql_query(sql_query: str) -> List[Dict[str, Any]]:\n",
        "    \"\"\"Execute the given SQL query and return the results as a list of dictionaries.\"\"\"\n",
        "    conn = get_db_connection()\n",
        "    if not conn:\n",
        "        return [{\"error\": \"Could not connect to database\"}]\n",
        "\n",
        "    try:\n",
        "        cursor = conn.cursor()\n",
        "        cursor.execute(sql_query)\n",
        "\n",
        "        # Convert the results to a list of dictionaries\n",
        "        columns = [col[0] for col in cursor.description]\n",
        "        results = [dict(zip(columns, row)) for row in cursor.fetchall()]\n",
        "\n",
        "        conn.close()\n",
        "        return results\n",
        "    except sqlite3.Error as e:\n",
        "        conn.close()\n",
        "        return [{\"error\": f\"SQL error: {e}\", \"query\": sql_query}]"
      ],
      "metadata": {
        "id": "g_oz9j0CWSjD"
      },
      "execution_count": null,
      "outputs": []
    },
    {
      "cell_type": "markdown",
      "source": [
        "# Generate Sql Method"
      ],
      "metadata": {
        "id": "OFBa4cCkWVx8"
      }
    },
    {
      "cell_type": "code",
      "source": [
        "def generate_sql_from_nl(user_query: str) -> Dict[str, Any]:\n",
        "    \"\"\"Generate SQL from natural language using Gemini API with structured output.\"\"\"\n",
        "    try:\n",
        "        # Simplified schema for the prompt to reduce token usage\n",
        "        simplified_schema = json.loads(DB_SCHEMA)\n",
        "        schema_prompt = \"Tables and their columns:\\n\"\n",
        "        for table, details in simplified_schema.items():\n",
        "            columns = [col['name'] for col in details['columns']]\n",
        "            schema_prompt += f\"- {table}: {', '.join(columns)}\\n\"\n",
        "\n",
        "        system_prompt =f\"\"\"You are an expert SQL assistant that helps generate SQL queries for a Northwind company database. Your sole goal is to understand the user's request and generate a valid SQL query for the Northwind database.\n",
        "        The database contains the following tables and columns:\n",
        "        {schema_prompt}\n",
        "\n",
        "        **Do:**\n",
        "\n",
        "        * Generate valid SQLite SQL queries based on user requests\n",
        "        * Use only tables and columns that exist in the schema\n",
        "        * Handle requests in both English and Turkish\n",
        "        * Ensure proper JOIN syntax when combining tables\n",
        "        * Keep SQL queries simple and efficient\n",
        "        * Always return responses in the required JSON format\n",
        "\n",
        "        **Do not:**\n",
        "\n",
        "        * Use tables or columns that don't exist in the schema\n",
        "        * Provide alternative solutions unless the user specifically asks\n",
        "        * Include unnecessary complexity in queries\n",
        "        * Respond with anything other than the required JSON format\n",
        "\n",
        "        **Example 1:**\n",
        "        **You:**  \"Is there anything else I can help you with today?\"\n",
        "        **Customer:** \"Show me all customers from Germany\"\n",
        "        **You:** \"\n",
        "  \"sql_query\": \"SELECT * FROM Customers WHERE Country = 'Germany';\",\n",
        "  \"explanation\": \"This query selects all customer records where the Country field equals 'Germany'.\"\n",
        "\"\n",
        "        **Example 2:**\n",
        "        **You:**  \"Is there anything else I can help you with today?\"\n",
        "        **Customer:** \"En pahalı 5 ürünü listele\"\n",
        "        **You:** \"\n",
        "  \"sql_query\": \"SELECT ProductName, Price FROM Products ORDER BY Price DESC LIMIT 5;\",\n",
        "  \"explanation\": \"Bu sorgu, ürünleri fiyatlarına göre azalan sırada sıralar ve en pahalı 5 ürünün adını ve fiyatını getirir.\"\n",
        "\"\n",
        "\n",
        "        **Example 3:**\n",
        "        **You:**  \"Is there anything else I can help you with today?\"\n",
        "        **Customer:** \"Which employee handled the most orders?\"\n",
        "        **You:** \"\n",
        "  \"sql_query\": \"SELECT e.EmployeeID, e.FirstName, e.LastName, COUNT(o.OrderID) as OrderCount FROM Employees e JOIN Orders o ON e.EmployeeID = o.EmployeeID GROUP BY e.EmployeeID ORDER BY OrderCount DESC LIMIT 1;\",\n",
        "  \"explanation\": \"This query counts the orders handled by each employee and returns the employee who handled the most orders.\"\n",
        "\"\n",
        "\n",
        "        **Example 4:**\n",
        "        **You:**  \"Is there anything else I can help you with today?\"\n",
        "        **Customer:** \"Hangi tedarikçi en çok ürün sağlıyor?\"\n",
        "        **You:** \"\n",
        "  \"sql_query\": \"SELECT s.SupplierID, s.SupplierName, COUNT(p.ProductID) as ProductCount FROM Suppliers s JOIN Products p ON s.SupplierID = p.SupplierID GROUP BY s.SupplierID ORDER BY ProductCount DESC LIMIT 1;\",\n",
        "  \"explanation\": \"Bu sorgu, her tedarikçinin sağladığı ürün sayısını hesaplar ve en çok ürün sağlayan tedarikçiyi döndürür.\"\n",
        "\"\n",
        "\n",
        "        **Note**\n",
        "        Continue the interaction according to the language used by the user.\n",
        "        *If the user writes in Turkish, respond with a Turkish explanation.\n",
        "        *If the user writes in English, respond with an English explanation.\n",
        "\n",
        "        \"\"\"\n",
        "\n",
        "        generation_config = {\n",
        "          \"temperature\": 0.1,\n",
        "           \"top_p\": 0.95,\n",
        "            \"top_k\": 64,\n",
        "            \"max_output_tokens\": 8192,\n",
        "            \"response_mime_type\": \"application/json\",\n",
        "             }\n",
        "\n",
        "        model = genai.GenerativeModel(\n",
        "            model_name=\"gemini-1.5-flash-latest\",\n",
        "            generation_config=generation_config,\n",
        "            system_instruction=system_prompt\n",
        "        )\n",
        "\n",
        "        print(\"Sending request to Gemini API...\")\n",
        "        response = model.generate_content(\n",
        "            user_query,\n",
        "            generation_config={\"response_schema\": json_schema}\n",
        "        )\n",
        "        print(\"Received response from Gemini API!\")\n",
        "\n",
        "        try:\n",
        "            result = json.loads(response.text)\n",
        "            return result\n",
        "        except json.JSONDecodeError:\n",
        "            print(f\"Failed to parse JSON. Raw response: {response.text}\")\n",
        "            return {\n",
        "                \"sql_query\": \"\",\n",
        "                \"explanation\": \"Failed to parse response from AI model. Please try again.\"\n",
        "            }\n",
        "    except Exception as e:\n",
        "        print(f\"Error in generate_sql_from_nl: {e}\")\n",
        "        traceback.print_exc()\n",
        "        return {\n",
        "            \"sql_query\": \"\",\n",
        "            \"explanation\": f\"Error communicating with AI model: {str(e)}. Please try again.\"\n",
        "        }"
      ],
      "metadata": {
        "id": "ZjgM0GgQWlIB"
      },
      "execution_count": null,
      "outputs": []
    },
    {
      "cell_type": "markdown",
      "source": [
        "# Chat Interface Method"
      ],
      "metadata": {
        "id": "j7Rr5Y2GWmYp"
      }
    },
    {
      "cell_type": "code",
      "source": [
        "def create_chat_interface():\n",
        "    \"\"\"Create and launch the Gradio chat interface.\"\"\"\n",
        "    with gr.Blocks(css=\".chatbot-container { max-width: 500px; margin: auto; } footer { visibility: hidden; }\") as demo:\n",
        "        gr.Markdown(\"# Northwind DB Chatbot\")\n",
        "        gr.Markdown(\"İngilizce veya Türkçe olarak şirket veritabanı hakkında sorular sorun!\")\n",
        "\n",
        "        with gr.Row():\n",
        "            with gr.Column(scale=3):\n",
        "                # Initialize chatbot with a welcome message\n",
        "                chatbot = gr.Chatbot(value=[\n",
        "                    (None, \"Merhaba! Northwind veritabanı hakkında sorularınızı yanıtlamak için buradayım. Size nasıl yardımcı olabilirim?\")\n",
        "                ], height=500)\n",
        "\n",
        "                with gr.Row():\n",
        "                    msg = gr.Textbox(placeholder=\"Sorunuzu buraya yazın... (örn: 'En pahalı 5 ürün nedir?')\", label=\"Sorunuz\")\n",
        "                    send_btn = gr.Button(\"Gönder\")\n",
        "\n",
        "                clear = gr.Button(\"Temizle\")\n",
        "\n",
        "            with gr.Column(scale=1):\n",
        "                gr.Markdown(\"### Örnek Sorular\")\n",
        "                example_btn1 = gr.HTML(\"Almanya'daki müşteriler kimler?\")\n",
        "                example_btn2 = gr.HTML(\"En pahalı 5 ürünü listele\")\n",
        "                example_btn3 = gr.HTML(\"Hangi tedarikçi en çok ürün sağlıyor?\")\n",
        "                example_btn4 = gr.HTML(\"Alice Mutton ürününün fiyatı nedir?\")\n",
        "\n",
        "\n",
        "\n",
        "        def user(user_message, history):\n",
        "            \"\"\"Handle user input and update the chat history.\"\"\"\n",
        "            return \"\", history + [(user_message, None)]\n",
        "\n",
        "        def bot(history):\n",
        "            \"\"\"Process user query and generate response.\"\"\"\n",
        "            user_message = history[-1][0]\n",
        "            history = history[:-1]\n",
        "\n",
        "            try:\n",
        "                # Generate SQL from natural language\n",
        "                response = generate_sql_from_nl(user_message)\n",
        "\n",
        "                sql_query = response.get(\"sql_query\", \"\")\n",
        "                explanation = response.get(\"explanation\", \"\")\n",
        "\n",
        "                if not sql_query:\n",
        "                    history.append((user_message, \"Sorgumuz için geçerli bir SQL oluşturamadım. Lütfen Northwind DB ile ilgili sorular sorun?\"))\n",
        "                    return history\n",
        "\n",
        "                # Execute the SQL query\n",
        "                query_results = execute_sql_query(sql_query)\n",
        "\n",
        "                if len(query_results) == 1 and \"error\" in query_results[0]:\n",
        "                    error_message = query_results[0][\"error\"]\n",
        "                    result = f\"Sorgu çalıştırılırken hata: {error_message}\\n\\nDenenen SQL: {sql_query}\"\n",
        "                else:\n",
        "                    # Format the results\n",
        "                    formatted_results = json.dumps(query_results, indent=2, ensure_ascii=False)\n",
        "\n",
        "                    # Create a full response with explanation, SQL, and results\n",
        "                    result = f\"\"\"**Anladığım:**\n",
        "                    {explanation}\n",
        "                    **SQL Sorgusu:**\n",
        "                    ```sql\n",
        "                    {sql_query}\n",
        "                    ```\n",
        "                    **Sonuçlar:**\n",
        "                    ```json\n",
        "                    {formatted_results if query_results else \"Sonuç bulunamadı.\"}\n",
        "                    ```\n",
        "                    {len(query_results)} kayıt bulundu.\"\"\"\n",
        "\n",
        "                history.append((user_message, result))\n",
        "            except Exception as e:\n",
        "                history.append((user_message, f\"Beklenmedik bir hata oluştu: {str(e)}\"))\n",
        "                traceback.print_exc()\n",
        "\n",
        "            return history\n",
        "\n",
        "        def clear_chat():\n",
        "            \"\"\"Clear the chat history.\"\"\"\n",
        "            return []\n",
        "\n",
        "        # Connect the interface components\n",
        "        send_btn.click(user, [msg, chatbot], [msg, chatbot], queue=False).then(\n",
        "            bot, chatbot, chatbot\n",
        "        )\n",
        "\n",
        "        msg.submit(user, [msg, chatbot], [msg, chatbot], queue=False).then(\n",
        "            bot, chatbot, chatbot\n",
        "        )\n",
        "\n",
        "        clear.click(clear_chat, None, chatbot)\n",
        "\n",
        "    return demo\n",
        "\n",
        "# Create and launch the chat interface\n",
        "print(\"Arayüz başlatılıyor...\")\n",
        "chat_interface = create_chat_interface()\n",
        "chat_interface.launch(share=True, debug=True)"
      ],
      "metadata": {
        "colab": {
          "base_uri": "https://localhost:8080/",
          "height": 749
        },
        "id": "VfSDZ2ySPRt7",
        "outputId": "0df74d2c-d314-44a7-dc99-66bea857b5b6"
      },
      "execution_count": null,
      "outputs": [
        {
          "output_type": "stream",
          "name": "stdout",
          "text": [
            "Arayüz başlatılıyor...\n"
          ]
        },
        {
          "output_type": "stream",
          "name": "stderr",
          "text": [
            "<ipython-input-9-0cb446bfb812>:10: UserWarning: You have not specified a value for the `type` parameter. Defaulting to the 'tuples' format for chatbot messages, but this is deprecated and will be removed in a future version of Gradio. Please set type='messages' instead, which uses openai-style dictionaries with 'role' and 'content' keys.\n",
            "  chatbot = gr.Chatbot(value=[\n"
          ]
        },
        {
          "output_type": "stream",
          "name": "stdout",
          "text": [
            "Colab notebook detected. This cell will run indefinitely so that you can see errors and logs. To turn off, set debug=False in launch().\n",
            "* Running on public URL: https://d0a296f8b1adc1b804.gradio.live\n",
            "\n",
            "This share link expires in 72 hours. For free permanent hosting and GPU upgrades, run `gradio deploy` from the terminal in the working directory to deploy to Hugging Face Spaces (https://huggingface.co/spaces)\n"
          ]
        },
        {
          "output_type": "display_data",
          "data": {
            "text/plain": [
              "<IPython.core.display.HTML object>"
            ],
            "text/html": [
              "<div><iframe src=\"https://d0a296f8b1adc1b804.gradio.live\" width=\"100%\" height=\"500\" allow=\"autoplay; camera; microphone; clipboard-read; clipboard-write;\" frameborder=\"0\" allowfullscreen></iframe></div>"
            ]
          },
          "metadata": {}
        },
        {
          "output_type": "stream",
          "name": "stdout",
          "text": [
            "Sending request to Gemini API...\n",
            "Received response from Gemini API!\n",
            "Keyboard interruption in main thread... closing server.\n",
            "Killing tunnel 127.0.0.1:7860 <> https://f1bb95ac51d1dc0cda.gradio.live\n",
            "Killing tunnel 127.0.0.1:7860 <> https://d0a296f8b1adc1b804.gradio.live\n"
          ]
        },
        {
          "output_type": "execute_result",
          "data": {
            "text/plain": []
          },
          "metadata": {},
          "execution_count": 9
        }
      ]
    }
  ]
}